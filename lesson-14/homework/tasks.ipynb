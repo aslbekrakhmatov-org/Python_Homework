{
 "cells": [
  {
   "cell_type": "markdown",
   "metadata": {},
   "source": [
    "##### task1"
   ]
  },
  {
   "cell_type": "code",
   "execution_count": 9,
   "metadata": {},
   "outputs": [
    {
     "name": "stdout",
     "output_type": "stream",
     "text": [
      "[-10.56  25.    37.78 -17.78   0.  ]\n"
     ]
    }
   ],
   "source": [
    "import numpy as np\n",
    "farenheit_arr = np.array([13, 77, 100, 0, 32])\n",
    "@np.vectorize\n",
    "def convert_to_celcius(arr:np.array):\n",
    "    return (arr-32)*(5/9)\n",
    "     \n",
    "celcius_arr = convert_to_celcius(farenheit_arr)\n",
    "np.printoptions(suppress=True, precision=2)\n",
    "print(celcius_arr)"
   ]
  },
  {
   "cell_type": "markdown",
   "metadata": {},
   "source": [
    "##### task2"
   ]
  },
  {
   "cell_type": "code",
   "execution_count": 11,
   "metadata": {},
   "outputs": [
    {
     "name": "stdout",
     "output_type": "stream",
     "text": [
      "[512  16  49   8]\n"
     ]
    }
   ],
   "source": [
    "nums_arr = np.random.randint(1, 10, (4))\n",
    "powers_arr = np.random.randint(1, 5, (4))\n",
    "@np.vectorize\n",
    "def find_power_of_num(arr1, arr2):\n",
    "    return arr1**arr2\n",
    "\n",
    "result_arr = find_power_of_num(nums_arr, powers_arr)\n",
    "print(result_arr)"
   ]
  },
  {
   "cell_type": "markdown",
   "metadata": {},
   "source": [
    "##### task3"
   ]
  },
  {
   "cell_type": "code",
   "execution_count": 12,
   "metadata": {},
   "outputs": [
    {
     "name": "stdout",
     "output_type": "stream",
     "text": [
      "[ 1.7   0.62 -0.49]\n"
     ]
    }
   ],
   "source": [
    "coef = np.array([\n",
    "    [4, 5, 6],\n",
    "    [3, -1, 1],\n",
    "    [2, 1, -2]\n",
    "])\n",
    "Y = np.array([7, 4, 5])\n",
    "result_xyz = np.linalg.solve(coef, Y)\n",
    "print(result_xyz)"
   ]
  },
  {
   "cell_type": "markdown",
   "metadata": {},
   "source": [
    "##### task4"
   ]
  },
  {
   "cell_type": "code",
   "execution_count": 13,
   "metadata": {},
   "outputs": [
    {
     "name": "stdout",
     "output_type": "stream",
     "text": [
      "[ 0.49 -0.23  2.22]\n",
      "[ 0.49 -0.23  2.22]\n"
     ]
    }
   ],
   "source": [
    "coef = np.array([\n",
    "    [10, -2, 3],\n",
    "    [-2, 8, -1],\n",
    "    [3, -1, 6]\n",
    "])\n",
    "Y = np.array([12, -5, 15])\n",
    "\n",
    "result1 = np.linalg.inv(coef)@Y\n",
    "result2 = np.linalg.solve(coef,Y)\n",
    "print(result1)\n",
    "print(result2)"
   ]
  }
 ],
 "metadata": {
  "kernelspec": {
   "display_name": "Python 3",
   "language": "python",
   "name": "python3"
  },
  "language_info": {
   "codemirror_mode": {
    "name": "ipython",
    "version": 3
   },
   "file_extension": ".py",
   "mimetype": "text/x-python",
   "name": "python",
   "nbconvert_exporter": "python",
   "pygments_lexer": "ipython3",
   "version": "3.10.10"
  }
 },
 "nbformat": 4,
 "nbformat_minor": 2
}

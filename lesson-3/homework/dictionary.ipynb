{
 "cells": [
  {
   "cell_type": "markdown",
   "metadata": {},
   "source": [
    "## Dictionary"
   ]
  },
  {
   "cell_type": "markdown",
   "metadata": {},
   "source": [
    "##### dict1"
   ]
  },
  {
   "cell_type": "code",
   "execution_count": null,
   "metadata": {},
   "outputs": [
    {
     "name": "stdout",
     "output_type": "stream",
     "text": [
      "The dict is empty\n"
     ]
    }
   ],
   "source": [
    "dictionary1 = {\"name\":'Ali', \"age\": 18, \"job\": \"student\"}\n",
    "if bool(dictionary1):\n",
    "    print(dictionary1[\"name\"])\n",
    "else:\n",
    "    print(\"The dict is empty\")"
   ]
  },
  {
   "cell_type": "markdown",
   "metadata": {},
   "source": [
    "\n",
    "##### dict2"
   ]
  },
  {
   "cell_type": "code",
   "execution_count": null,
   "metadata": {},
   "outputs": [
    {
     "name": "stdout",
     "output_type": "stream",
     "text": [
      "True\n"
     ]
    }
   ],
   "source": [
    "dictionary1 = {\"name\":'Ali', \"age\": 18, \"job\": \"student\"}\n",
    "key = \"age\"\n",
    "print(bool(key in dictionary1.keys()))"
   ]
  },
  {
   "cell_type": "markdown",
   "metadata": {},
   "source": [
    "##### dict3"
   ]
  },
  {
   "cell_type": "code",
   "execution_count": null,
   "metadata": {},
   "outputs": [
    {
     "name": "stdout",
     "output_type": "stream",
     "text": [
      "3\n"
     ]
    }
   ],
   "source": [
    "dictionary1 = {\"name\":'Ali', \"age\": 18, \"job\": \"student\"}\n",
    "print(len(dictionary1.keys()))"
   ]
  },
  {
   "cell_type": "markdown",
   "metadata": {},
   "source": [
    "##### dict4"
   ]
  },
  {
   "cell_type": "code",
   "execution_count": null,
   "metadata": {},
   "outputs": [
    {
     "name": "stdout",
     "output_type": "stream",
     "text": [
      "dict_keys(['name', 'age', 'job'])\n"
     ]
    }
   ],
   "source": [
    "dictionary1 = {\"name\":'Ali', \"age\": 18, \"job\": \"student\"}\n",
    "keys_list = dictionary1.keys()\n",
    "print(keys_list)"
   ]
  },
  {
   "cell_type": "markdown",
   "metadata": {},
   "source": [
    "##### dict5"
   ]
  },
  {
   "cell_type": "code",
   "execution_count": null,
   "metadata": {},
   "outputs": [
    {
     "name": "stdout",
     "output_type": "stream",
     "text": [
      "dict_values(['Aslbek', 18, 'student'])\n"
     ]
    }
   ],
   "source": [
    "dictionary1 = {\"name\":'Ali', \"age\": 18, \"job\": \"student\"}\n",
    "values_list = dictionary1.values()\n",
    "print(values_list)"
   ]
  },
  {
   "cell_type": "markdown",
   "metadata": {},
   "source": [
    "##### dict6"
   ]
  },
  {
   "cell_type": "code",
   "execution_count": null,
   "metadata": {},
   "outputs": [
    {
     "name": "stdout",
     "output_type": "stream",
     "text": [
      "None\n"
     ]
    }
   ],
   "source": [
    "fclub1 = {\"name\" : \"Real Madrid\", \"year\" : 1902, \"country\": \"Spain\"}\n",
    "fclub_more = {\"liga\" : \"Laliga\", \"rank\" : 1, \"point\": 50}\n",
    "combined_dict = fclub1.copy()\n",
    "combined_dict.update(fclub2)\n",
    "print(combined_dict)"
   ]
  },
  {
   "cell_type": "markdown",
   "metadata": {},
   "source": [
    "##### dict7"
   ]
  },
  {
   "cell_type": "code",
   "execution_count": 27,
   "metadata": {},
   "outputs": [
    {
     "name": "stdout",
     "output_type": "stream",
     "text": [
      "{'age': 18, 'job': 'student'}\n"
     ]
    }
   ],
   "source": [
    "dictionary1 = {\"name\":'Ali', \"age\": 18, \"job\": \"student\"}\n",
    "key = \"name\"\n",
    "if key in dictionary1.keys():\n",
    "    dictionary1.pop(key)\n",
    "    print(dictionary1)\n",
    "else:\n",
    "    print(\"There is no such a key\")\n"
   ]
  },
  {
   "cell_type": "markdown",
   "metadata": {},
   "source": [
    "##### dict8"
   ]
  },
  {
   "cell_type": "code",
   "execution_count": 31,
   "metadata": {},
   "outputs": [
    {
     "name": "stdout",
     "output_type": "stream",
     "text": [
      "{}\n"
     ]
    }
   ],
   "source": [
    "dictionary1 = {\"name\":'Ali', \"age\": 18, \"job\": \"student\"}\n",
    "dictionary1.clear()\n",
    "print(dictionary1)"
   ]
  },
  {
   "cell_type": "markdown",
   "metadata": {},
   "source": [
    "##### dict9"
   ]
  },
  {
   "cell_type": "code",
   "execution_count": null,
   "metadata": {},
   "outputs": [
    {
     "name": "stdout",
     "output_type": "stream",
     "text": [
      "False\n"
     ]
    }
   ],
   "source": [
    "dictionary1 = {\"name\":'Ali', \"age\": 18, \"job\": \"student\"}\n",
    "print(bool(dictionary1))"
   ]
  },
  {
   "cell_type": "markdown",
   "metadata": {},
   "source": [
    "##### dict10"
   ]
  },
  {
   "cell_type": "code",
   "execution_count": 35,
   "metadata": {},
   "outputs": [
    {
     "name": "stdout",
     "output_type": "stream",
     "text": [
      "name : Ali\n"
     ]
    }
   ],
   "source": [
    "dictionary1 = {\"name\":'Ali', \"age\": 18, \"job\": \"student\"}\n",
    "key = \"name\"\n",
    "if key in dictionary1.keys():\n",
    "    print(f\"{key} : {dictionary1[key]}\")\n",
    "else:\n",
    "    print(\"There is no such a key!\")"
   ]
  },
  {
   "cell_type": "markdown",
   "metadata": {},
   "source": [
    "##### dict11"
   ]
  },
  {
   "cell_type": "code",
   "execution_count": 37,
   "metadata": {},
   "outputs": [
    {
     "name": "stdout",
     "output_type": "stream",
     "text": [
      "{'name': 'Ali', 'age': 17, 'job': 'student'}\n"
     ]
    }
   ],
   "source": [
    "dictionary1 = {\"name\":'Ali', \"age\": 18, \"job\": \"student\"}\n",
    "dictionary1.update({'age':17})\n",
    "print(dictionary1)"
   ]
  },
  {
   "cell_type": "markdown",
   "metadata": {},
   "source": [
    "##### dict12"
   ]
  },
  {
   "cell_type": "code",
   "execution_count": 43,
   "metadata": {},
   "outputs": [
    {
     "name": "stdout",
     "output_type": "stream",
     "text": [
      "0\n"
     ]
    }
   ],
   "source": [
    "dictionary1 = {\"name\":'Ali', \"age\": 18, \"job\": \"student\", 'date': 18}\n",
    "val1 = 17\n",
    "occurs = []\n",
    "for x in dictionary1.values():\n",
    "    if x==val1:\n",
    "        occurs.append(x)\n",
    "print(len(occurs))"
   ]
  },
  {
   "cell_type": "markdown",
   "metadata": {},
   "source": [
    "##### dict13"
   ]
  },
  {
   "cell_type": "code",
   "execution_count": 3,
   "metadata": {},
   "outputs": [
    {
     "name": "stdout",
     "output_type": "stream",
     "text": [
      "{'Ali': 'name', 18: 'age', 'student': 'job', 19: 'date'}\n"
     ]
    }
   ],
   "source": [
    "dictionary1 = {\"name\":'Ali', \"age\": 18, \"job\": \"student\", 'date': 19}\n",
    "new_dict = {values : keys for keys, values in dictionary1.items()}\n",
    "print(new_dict)\n"
   ]
  },
  {
   "cell_type": "markdown",
   "metadata": {},
   "source": [
    "##### dict14"
   ]
  },
  {
   "cell_type": "code",
   "execution_count": 5,
   "metadata": {},
   "outputs": [
    {
     "name": "stdout",
     "output_type": "stream",
     "text": [
      "['age', 'date']\n"
     ]
    }
   ],
   "source": [
    "dictionary1 = {\"name\":'Ali', \"age\": 18, \"job\": \"student\", 'date': 18}\n",
    "value1 = 18\n",
    "key_list = []\n",
    "for x in dictionary1.keys():\n",
    "    if dictionary1[x] == value1:\n",
    "        key_list.append(x)\n",
    "print(key_list)\n",
    "\n"
   ]
  },
  {
   "cell_type": "markdown",
   "metadata": {},
   "source": [
    "##### dict15"
   ]
  },
  {
   "cell_type": "code",
   "execution_count": 11,
   "metadata": {},
   "outputs": [
    {
     "name": "stdout",
     "output_type": "stream",
     "text": [
      "{'name': 'Ali', 'age': '18'}\n"
     ]
    }
   ],
   "source": [
    "keys = input().split()\n",
    "values = input().split()\n",
    "dict1 = dict(zip(keys, values))\n",
    "print(dict1)"
   ]
  },
  {
   "cell_type": "markdown",
   "metadata": {},
   "source": [
    "##### dict16"
   ]
  },
  {
   "cell_type": "code",
   "execution_count": null,
   "metadata": {},
   "outputs": [
    {
     "name": "stdout",
     "output_type": "stream",
     "text": [
      "Not nested dict\n"
     ]
    }
   ],
   "source": [
    "dictionary1 = {\"name\":'Ali', \"age\": 18, \"job\": {\"univer\": \"newuu\"}, 'date': 19}\n",
    "checker = False\n",
    "for x in dictionary1.values():\n",
    "    if isinstance(x, dict):\n",
    "        checker = True\n",
    "if checker:\n",
    "    print(\"Nested dictionary\")\n",
    "else:\n",
    "    print(\"Not nested dictionary\")"
   ]
  },
  {
   "cell_type": "markdown",
   "metadata": {},
   "source": [
    "##### dict17"
   ]
  },
  {
   "cell_type": "code",
   "execution_count": 19,
   "metadata": {},
   "outputs": [
    {
     "data": {
      "text/plain": [
       "19"
      ]
     },
     "execution_count": 19,
     "metadata": {},
     "output_type": "execute_result"
    }
   ],
   "source": [
    "dictionary1 = {\"name\":'Ali', \"age\": 18, \"job\": {\"univer\": \"newuu\"}, 'date': {\"month\" :5, \"day\":19}}\n",
    "dictionary1[\"date\"]['day']"
   ]
  },
  {
   "cell_type": "markdown",
   "metadata": {},
   "source": [
    "##### dict18"
   ]
  },
  {
   "cell_type": "code",
   "execution_count": 27,
   "metadata": {},
   "outputs": [
    {
     "name": "stdout",
     "output_type": "stream",
     "text": [
      "apple\n"
     ]
    }
   ],
   "source": [
    "from collections import defaultdict\n",
    "dict1 = defaultdict(lambda : \"No value\")\n",
    "dict1['fruit'] = 'apple'\n",
    "print(dict1['fruit'])\n"
   ]
  },
  {
   "cell_type": "markdown",
   "metadata": {},
   "source": [
    "##### dict19"
   ]
  },
  {
   "cell_type": "code",
   "execution_count": 28,
   "metadata": {},
   "outputs": [
    {
     "name": "stdout",
     "output_type": "stream",
     "text": [
      "3\n"
     ]
    }
   ],
   "source": [
    "dictionary1 = {\"name\":'Ali', \"age\": 18, \"job\": {\"univer\": \"newuu\"}, 'date': 18}\n",
    "unique = []\n",
    "for x in dictionary1.values():\n",
    "    if x not in unique:\n",
    "        unique.append(x)\n",
    "print(len(unique))"
   ]
  },
  {
   "cell_type": "markdown",
   "metadata": {},
   "source": [
    "##### dict20"
   ]
  },
  {
   "cell_type": "code",
   "execution_count": 32,
   "metadata": {},
   "outputs": [
    {
     "name": "stdout",
     "output_type": "stream",
     "text": [
      "{'age': dict['age'], 'date': dict['date'], 'job': dict['job'], 'name': dict['name']}\n"
     ]
    }
   ],
   "source": [
    "dict1 = {\"name\":'Ali', \"age\": 18, \"job\": {\"univer\": \"newuu\"}, 'date': 18}\n",
    "keys = list(dict1.keys())\n",
    "keys.sort()\n",
    "sorted_dict = {x : dict[x] for x in keys}\n",
    "print(sorted_dict)"
   ]
  },
  {
   "cell_type": "markdown",
   "metadata": {},
   "source": [
    "##### dict21"
   ]
  },
  {
   "cell_type": "code",
   "execution_count": 37,
   "metadata": {},
   "outputs": [
    {
     "name": "stdout",
     "output_type": "stream",
     "text": [
      "{'age': 18, 'date': 19, 'name': 'Ali', 'job': 'student'}\n"
     ]
    }
   ],
   "source": [
    "dict1 = {\"name\":'Ali', \"age\": 18, \"job\": \"student\", 'date': 19}\n",
    "sorted_dict = dict(sorted(dict1.items(), key = lambda x : str(x[1])))\n",
    "print(sorted_dict)\n"
   ]
  },
  {
   "cell_type": "markdown",
   "metadata": {},
   "source": [
    "##### dict22"
   ]
  },
  {
   "cell_type": "code",
   "execution_count": 43,
   "metadata": {},
   "outputs": [
    {
     "name": "stdout",
     "output_type": "stream",
     "text": [
      "{'job': 'student'}\n"
     ]
    }
   ],
   "source": [
    "dict1 = {\"name\":'Ali', \"age\": \"18\", \"job\": \"student\", 'date': \"19\"}\n",
    "for k in dict1.keys():\n",
    "    if len(dict1[k])>6:\n",
    "        filtered_dict = {k:dict1[k]}\n",
    "print(filtered_dict)\n",
    "\n"
   ]
  },
  {
   "cell_type": "markdown",
   "metadata": {},
   "source": [
    "##### dict23"
   ]
  },
  {
   "cell_type": "code",
   "execution_count": 47,
   "metadata": {},
   "outputs": [
    {
     "name": "stdout",
     "output_type": "stream",
     "text": [
      "True\n"
     ]
    }
   ],
   "source": [
    "dict1 = {\"name\" : \"Real Madrid\", \"year\" : 1902, \"country\": \"Spain\"}\n",
    "dict2 = {\"liga\" : \"Laliga\", \"rank\" : 1, \"point\": 50, \"name\" : \"Nasaf\"}\n",
    "set_keys1 = set(dict1.keys())\n",
    "set_keys2 = set(dict2.keys())\n",
    "print(bool(set_keys1 & set_keys2))\n"
   ]
  },
  {
   "cell_type": "markdown",
   "metadata": {},
   "source": [
    "##### dict24"
   ]
  },
  {
   "cell_type": "code",
   "execution_count": 48,
   "metadata": {},
   "outputs": [
    {
     "name": "stdout",
     "output_type": "stream",
     "text": [
      "{'name': 'Ali', 'age': 18, 'job': 'student'}\n"
     ]
    }
   ],
   "source": [
    "tuple1 = (('name', 'Ali'), ('age', 18), ('job', 'student'))\n",
    "dict1 = dict(tuple1)\n",
    "print(dict1)"
   ]
  },
  {
   "cell_type": "markdown",
   "metadata": {},
   "source": [
    "##### dict25"
   ]
  },
  {
   "cell_type": "code",
   "execution_count": 51,
   "metadata": {},
   "outputs": [
    {
     "name": "stdout",
     "output_type": "stream",
     "text": [
      "name : Real Madrid\n"
     ]
    }
   ],
   "source": [
    "dict1 = {\"name\" : \"Real Madrid\", \"year\" : 1902, \"country\": \"Spain\"}\n",
    "list_keys = list(dict1.keys())\n",
    "list_values = list(dict1.values())\n",
    "print(f\"{list_keys[0]} : {list_values[0]}\")"
   ]
  }
 ],
 "metadata": {
  "kernelspec": {
   "display_name": "Python 3",
   "language": "python",
   "name": "python3"
  },
  "language_info": {
   "codemirror_mode": {
    "name": "ipython",
    "version": 3
   },
   "file_extension": ".py",
   "mimetype": "text/x-python",
   "name": "python",
   "nbconvert_exporter": "python",
   "pygments_lexer": "ipython3",
   "version": "3.10.10"
  }
 },
 "nbformat": 4,
 "nbformat_minor": 2
}

{
 "cells": [
  {
   "cell_type": "markdown",
   "metadata": {},
   "source": [
    "##### task1"
   ]
  },
  {
   "cell_type": "code",
   "execution_count": null,
   "metadata": {},
   "outputs": [],
   "source": [
    "import numpy as np\n",
    "vector = np.arange(10, 50)\n",
    "print(\"Vector:\")\n",
    "print(vector)"
   ]
  },
  {
   "cell_type": "markdown",
   "metadata": {},
   "source": [
    "##### task2"
   ]
  },
  {
   "cell_type": "markdown",
   "metadata": {},
   "source": [
    "import numpy as np\n",
    "matrix_3x3 = np.arange(9).reshape(3, 3)\n",
    "print(\"\\n3x3 Matrix:\")\n",
    "print(matrix_3x3)"
   ]
  },
  {
   "cell_type": "markdown",
   "metadata": {},
   "source": [
    "##### task3"
   ]
  },
  {
   "cell_type": "code",
   "execution_count": null,
   "metadata": {},
   "outputs": [],
   "source": [
    "import numpy as np\n",
    "identity_matrix = np.eye(3)\n",
    "print(\"\\n3x3 Identity Matrix:\")\n",
    "print(identity_matrix)"
   ]
  },
  {
   "cell_type": "markdown",
   "metadata": {},
   "source": [
    "##### task4"
   ]
  },
  {
   "cell_type": "code",
   "execution_count": null,
   "metadata": {},
   "outputs": [],
   "source": [
    "import numpy as np\n",
    "random_3x3x3 = np.random.random((3, 3, 3))\n",
    "print(\"\\n3x3x3 Random Array:\")\n",
    "print(random_3x3x3)"
   ]
  },
  {
   "cell_type": "markdown",
   "metadata": {},
   "source": [
    "##### task5"
   ]
  },
  {
   "cell_type": "code",
   "execution_count": null,
   "metadata": {},
   "outputs": [],
   "source": [
    "import numpy as np\n",
    "random_10x10 = np.random.random((10, 10))\n",
    "min_value = np.min(random_10x10)\n",
    "max_value = np.max(random_10x10)\n",
    "print(\"\\n10x10 Random Array:\")\n",
    "print(random_10x10)\n",
    "print(f\"\\nMinimum Value: {min_value}\")\n",
    "print(f\"Maximum Value: {max_value}\")"
   ]
  },
  {
   "cell_type": "markdown",
   "metadata": {},
   "source": [
    "##### task6"
   ]
  },
  {
   "cell_type": "code",
   "execution_count": null,
   "metadata": {},
   "outputs": [],
   "source": [
    "import numpy as np\n",
    "random_vector = np.random.random(30)\n",
    "mean_value = np.mean(random_vector)\n",
    "print(\"\\nRandom Vector of size 30:\")\n",
    "print(random_vector)\n",
    "print(f\"\\nMean Value: {mean_value}\")"
   ]
  }
 ],
 "metadata": {
  "language_info": {
   "name": "python"
  }
 },
 "nbformat": 4,
 "nbformat_minor": 2
}

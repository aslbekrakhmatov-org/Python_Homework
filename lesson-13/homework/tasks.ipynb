{
 "cells": [
  {
   "cell_type": "markdown",
   "metadata": {},
   "source": [
    "##### task1"
   ]
  },
  {
   "cell_type": "code",
   "execution_count": null,
   "metadata": {},
   "outputs": [
    {
     "name": "stdout",
     "output_type": "stream",
     "text": [
      "[10 11 12 13 14 15 16 17 18 19 20 21 22 23 24 25 26 27 28 29 30 31 32 33\n",
      " 34 35 36 37 38 39 40 41 42 43 44 45 46 47 48]\n"
     ]
    }
   ],
   "source": [
    "import numpy as np\n",
    "vector = np.arange(10, 50)\n",
    "print(vector)\n"
   ]
  },
  {
   "cell_type": "markdown",
   "metadata": {},
   "source": [
    "##### task2"
   ]
  },
  {
   "cell_type": "code",
   "execution_count": 23,
   "metadata": {},
   "outputs": [
    {
     "name": "stdout",
     "output_type": "stream",
     "text": [
      "\n",
      "3x3 Matrix:\n",
      "[[0 1 2]\n",
      " [3 4 5]\n",
      " [6 7 8]]\n"
     ]
    }
   ],
   "source": [
    "import numpy as np\n",
    "matrix_3x3 = np.arange(9).reshape(3, 3)\n",
    "print(\"\\n3x3 Matrix:\")\n",
    "print(matrix_3x3)"
   ]
  },
  {
   "cell_type": "markdown",
   "metadata": {},
   "source": [
    "##### task3"
   ]
  },
  {
   "cell_type": "code",
   "execution_count": 36,
   "metadata": {},
   "outputs": [
    {
     "name": "stdout",
     "output_type": "stream",
     "text": [
      "[[1 0 0]\n",
      " [0 1 0]\n",
      " [0 0 1]]\n"
     ]
    }
   ],
   "source": [
    "import numpy as np\n",
    "identity_matrix = np.eye(3, dtype=int)\n",
    "print(identity_matrix)"
   ]
  },
  {
   "cell_type": "markdown",
   "metadata": {},
   "source": [
    "##### task4"
   ]
  },
  {
   "cell_type": "code",
   "execution_count": 44,
   "metadata": {},
   "outputs": [
    {
     "name": "stdout",
     "output_type": "stream",
     "text": [
      "[[[13 70 41]\n",
      "  [80 49 53]\n",
      "  [12 46  8]]\n",
      "\n",
      " [[20 92 73]\n",
      "  [54 80 72]\n",
      "  [42 36 77]]\n",
      "\n",
      " [[32 47 13]\n",
      "  [66  9 50]\n",
      "  [32 11 90]]]\n"
     ]
    }
   ],
   "source": [
    "import numpy as np\n",
    "random_mtrx = np.random.randint(1, 100, (3, 3, 3))\n",
    "print(random_mtrx)"
   ]
  },
  {
   "cell_type": "markdown",
   "metadata": {},
   "source": [
    "##### task5"
   ]
  },
  {
   "cell_type": "code",
   "execution_count": 51,
   "metadata": {},
   "outputs": [
    {
     "name": "stdout",
     "output_type": "stream",
     "text": [
      "Max value: 9\n",
      "Min value: 1\n"
     ]
    }
   ],
   "source": [
    "import numpy as np\n",
    "array10x10 = np.random.randint(1, 10, (10,10))\n",
    "print(f\"Max value: {np.max(array10x10)}\")\n",
    "print(f\"Min value: {np.min(array10x10)}\")\n"
   ]
  },
  {
   "cell_type": "markdown",
   "metadata": {},
   "source": [
    "##### task6"
   ]
  },
  {
   "cell_type": "code",
   "execution_count": 56,
   "metadata": {},
   "outputs": [
    {
     "name": "stdout",
     "output_type": "stream",
     "text": [
      "[70 98 45 81  8 33 59 41 31 74 50 43 47 26 22  1 84 26 22 83 76 70 77 34\n",
      " 53 89 28 95 89 50]\n",
      "Mean: 53.5\n"
     ]
    }
   ],
   "source": [
    "import numpy as np\n",
    "rand_vect = np.random.randint(1,100, (30,))\n",
    "print(rand_vect)\n",
    "mean = rand_vect.sum()/len(rand_vect)\n",
    "print(f\"Mean: {round(mean, 2)}\")"
   ]
  },
  {
   "cell_type": "markdown",
   "metadata": {},
   "source": [
    "##### task7"
   ]
  },
  {
   "cell_type": "code",
   "execution_count": 57,
   "metadata": {},
   "outputs": [
    {
     "name": "stdout",
     "output_type": "stream",
     "text": [
      "[[0.5   0.125 0.25  0.875 0.125]\n",
      " [0.375 1.    0.875 0.625 0.125]\n",
      " [0.125 0.125 0.    0.125 0.5  ]\n",
      " [1.    0.    0.375 1.    0.375]\n",
      " [0.    0.375 0.375 0.    0.125]]\n"
     ]
    }
   ],
   "source": [
    "import numpy as np\n",
    "matrix_org = np.random.randint(1,10, (5, 5))\n",
    "mtrx_min = matrix_org.min()\n",
    "mtrx_max = matrix_org.max() \n",
    "norm_matrix = (matrix_org-mtrx_min)/(mtrx_max-mtrx_min)\n",
    "print(norm_matrix)"
   ]
  },
  {
   "cell_type": "markdown",
   "metadata": {},
   "source": [
    "##### task8"
   ]
  },
  {
   "cell_type": "code",
   "execution_count": null,
   "metadata": {},
   "outputs": [
    {
     "name": "stdout",
     "output_type": "stream",
     "text": [
      "[[ 32  34]\n",
      " [ 52  46]\n",
      " [ 64  72]\n",
      " [ 98 116]\n",
      " [ 88 104]]\n"
     ]
    }
   ],
   "source": [
    "import numpy as np\n",
    "matrix_5x3 = np.random.randint(1, 10, (5, 3))\n",
    "matrix_3x2 = np.random.randint(1, 10, (3, 2))\n",
    "result_matrix = matrix_5x3@matrix_3x2\n",
    "print(result_matrix)"
   ]
  },
  {
   "cell_type": "markdown",
   "metadata": {},
   "source": [
    "##### task9"
   ]
  },
  {
   "cell_type": "code",
   "execution_count": 62,
   "metadata": {},
   "outputs": [
    {
     "name": "stdout",
     "output_type": "stream",
     "text": [
      "550\n"
     ]
    }
   ],
   "source": [
    "import numpy as np\n",
    "mtrx1 = np.random.randint(1, 10, (3,3))\n",
    "mtrx2 = np.random.randint(1, 10, (3,3))\n",
    "dot_prdct = np.dot(mtrx1, mtrx2)\n",
    "print(dot_prdct.sum())\n"
   ]
  },
  {
   "cell_type": "markdown",
   "metadata": {},
   "source": [
    "##### task10"
   ]
  },
  {
   "cell_type": "code",
   "execution_count": 63,
   "metadata": {},
   "outputs": [
    {
     "name": "stdout",
     "output_type": "stream",
     "text": [
      "[[ 1  5  9 13]\n",
      " [ 2  6 10 14]\n",
      " [ 3  7 11 15]\n",
      " [ 4  8 12 16]]\n"
     ]
    }
   ],
   "source": [
    "import numpy as np\n",
    "mtrx = np.array([\n",
    "    [1, 2, 3, 4],\n",
    "    [5, 6, 7, 8],\n",
    "    [9, 10, 11, 12],\n",
    "    [13, 14, 15, 16]\n",
    "])\n",
    "\n",
    "print(mtrx.transpose())"
   ]
  },
  {
   "cell_type": "markdown",
   "metadata": {},
   "source": [
    "##### task11"
   ]
  },
  {
   "cell_type": "code",
   "execution_count": null,
   "metadata": {},
   "outputs": [],
   "source": [
    "import numpy as np\n",
    "mtrx = np.random.randint(1,9, (3,3))\n",
    "det_mtrx = np.linalg.det(mtrx)\n",
    "print(f\"Determinant: {det_mtrx}\")"
   ]
  }
 ],
 "metadata": {
  "kernelspec": {
   "display_name": "Python 3",
   "language": "python",
   "name": "python3"
  },
  "language_info": {
   "codemirror_mode": {
    "name": "ipython",
    "version": 3
   },
   "file_extension": ".py",
   "mimetype": "text/x-python",
   "name": "python",
   "nbconvert_exporter": "python",
   "pygments_lexer": "ipython3",
   "version": "3.10.10"
  }
 },
 "nbformat": 4,
 "nbformat_minor": 2
}

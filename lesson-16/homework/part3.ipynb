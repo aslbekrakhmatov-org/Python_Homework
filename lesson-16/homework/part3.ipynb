{
 "cells": [
  {
   "cell_type": "markdown",
   "metadata": {},
   "source": [
    "##### json task"
   ]
  },
  {
   "cell_type": "code",
   "execution_count": 2,
   "metadata": {},
   "outputs": [
    {
     "name": "stdout",
     "output_type": "stream",
     "text": [
      "sepalLength    5.843333\n",
      "sepalWidth     3.057333\n",
      "petalLength    3.758000\n",
      "petalWidth     1.199333\n",
      "dtype: float64\n",
      "sepalLength    5.80\n",
      "sepalWidth     3.00\n",
      "petalLength    4.35\n",
      "petalWidth     1.30\n",
      "dtype: float64\n",
      "sepalLength    0.828066\n",
      "sepalWidth     0.435866\n",
      "petalLength    1.765298\n",
      "petalWidth     0.762238\n",
      "dtype: float64\n"
     ]
    }
   ],
   "source": [
    "import pandas as pd\n",
    "df_json = pd.read_json(\"data/iris.json\")\n",
    "print(df_json.select_dtypes(\"number\").mean())\n",
    "print(df_json.select_dtypes(\"number\").median())\n",
    "print(df_json.select_dtypes(\"number\").std())"
   ]
  },
  {
   "cell_type": "markdown",
   "metadata": {},
   "source": [
    "##### excel task"
   ]
  },
  {
   "cell_type": "code",
   "execution_count": 3,
   "metadata": {},
   "outputs": [
    {
     "name": "stdout",
     "output_type": "stream",
     "text": [
      "Max age:\n",
      "80.0\n",
      "Min age:\n",
      "0.42\n",
      "Sum of ages:\n",
      "21205.17\n"
     ]
    }
   ],
   "source": [
    "df_excel = pd.read_excel('data/titanic.xlsx')\n",
    "print(\"Max age:\")\n",
    "print(df_excel[\"Age\"].max())\n",
    "print(\"Min age:\")\n",
    "print(df_excel[\"Age\"].min())\n",
    "print(\"Sum of ages:\")\n",
    "print(df_excel[\"Age\"].sum())"
   ]
  },
  {
   "cell_type": "markdown",
   "metadata": {},
   "source": [
    "##### csv task"
   ]
  },
  {
   "cell_type": "code",
   "execution_count": 4,
   "metadata": {},
   "outputs": [
    {
     "name": "stdout",
     "output_type": "stream",
     "text": [
      "The director with highest number of likes:\n",
      "Director:Joseph Gordon-Levitt, number of likes 23000.0\n",
      "The 5 longest movies and their direcotrs:\n",
      "                   movie_title        director_name\n",
      "1694                   Trapped                  NaN\n",
      "2436                    Carlos                  NaN\n",
      "1487       Blood In, Blood Out      Taylor Hackford\n",
      "1134             Heaven's Gate       Michael Cimino\n",
      "3254  The Legend of Suriyothai  Chatrichalerm Yukol\n"
     ]
    }
   ],
   "source": [
    "df_csv = pd.read_csv('data/movie.csv')\n",
    "highest_likes_df = df_csv.loc[df_csv[\"director_facebook_likes\"] == df_csv[\"director_facebook_likes\"].max()]\n",
    "print(\"The director with highest number of likes:\")\n",
    "print(f\"Director:{highest_likes_df.iloc[0]['director_name']}, number of likes {highest_likes_df.iloc[0]['director_facebook_likes']}\")\n",
    "longest_5_movies = df_csv.dropna(subset=[\"duration\"]).sort_values(by=\"duration\", ascending=False).head(5)\n",
    "print(\"The 5 longest movies and their direcotrs:\")\n",
    "print(longest_5_movies[[\"movie_title\", \"director_name\"]])"
   ]
  },
  {
   "cell_type": "markdown",
   "metadata": {},
   "source": [
    "##### parquet task"
   ]
  },
  {
   "cell_type": "code",
   "execution_count": null,
   "metadata": {},
   "outputs": [
    {
     "data": {
      "text/plain": [
       "Year                      0\n",
       "Quarter                   0\n",
       "Month                     0\n",
       "DayofMonth                0\n",
       "DayOfWeek                 0\n",
       "                     ...   \n",
       "Div5WheelsOn        6729125\n",
       "Div5TotalGTime      6729125\n",
       "Div5LongestGTime    6729125\n",
       "Div5WheelsOff       6729125\n",
       "Div5TailNum         6729125\n",
       "Length: 109, dtype: int64"
      ]
     },
     "execution_count": 5,
     "metadata": {},
     "output_type": "execute_result"
    }
   ],
   "source": [
    "df_parquet = pd.read_parquet(\"data/flights\")\n",
    "missing_values = df_parquet.isna().sum()\n",
    "print(missing_values)\n",
    "df_parquet.select_dtypes(\"number\").fillna(df_parquet.select_dtypes(\"number\").mean(), inplace=True)"
   ]
  }
 ],
 "metadata": {
  "kernelspec": {
   "display_name": "Python 3",
   "language": "python",
   "name": "python3"
  },
  "language_info": {
   "codemirror_mode": {
    "name": "ipython",
    "version": 3
   },
   "file_extension": ".py",
   "mimetype": "text/x-python",
   "name": "python",
   "nbconvert_exporter": "python",
   "pygments_lexer": "ipython3",
   "version": "3.10.10"
  }
 },
 "nbformat": 4,
 "nbformat_minor": 2
}

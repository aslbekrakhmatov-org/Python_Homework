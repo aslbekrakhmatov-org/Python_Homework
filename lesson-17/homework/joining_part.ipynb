{
 "cells": [
  {
   "cell_type": "markdown",
   "metadata": {},
   "source": [
    "##### chinook.db task"
   ]
  },
  {
   "cell_type": "code",
   "execution_count": 1,
   "metadata": {},
   "outputs": [
    {
     "name": "stdout",
     "output_type": "stream",
     "text": [
      "Customer 1 has 7 invoices\n",
      "Customer 2 has 7 invoices\n",
      "Customer 3 has 7 invoices\n",
      "Customer 4 has 7 invoices\n",
      "Customer 5 has 7 invoices\n",
      "Customer 6 has 7 invoices\n",
      "Customer 7 has 7 invoices\n",
      "Customer 8 has 7 invoices\n",
      "Customer 9 has 7 invoices\n",
      "Customer 10 has 7 invoices\n",
      "Customer 11 has 7 invoices\n",
      "Customer 12 has 7 invoices\n",
      "Customer 13 has 7 invoices\n",
      "Customer 14 has 7 invoices\n",
      "Customer 15 has 7 invoices\n",
      "Customer 16 has 7 invoices\n",
      "Customer 17 has 7 invoices\n",
      "Customer 18 has 7 invoices\n",
      "Customer 19 has 7 invoices\n",
      "Customer 20 has 7 invoices\n",
      "Customer 21 has 7 invoices\n",
      "Customer 22 has 7 invoices\n",
      "Customer 23 has 7 invoices\n",
      "Customer 24 has 7 invoices\n",
      "Customer 25 has 7 invoices\n",
      "Customer 26 has 7 invoices\n",
      "Customer 27 has 7 invoices\n",
      "Customer 28 has 7 invoices\n",
      "Customer 29 has 7 invoices\n",
      "Customer 30 has 7 invoices\n",
      "Customer 31 has 7 invoices\n",
      "Customer 32 has 7 invoices\n",
      "Customer 33 has 7 invoices\n",
      "Customer 34 has 7 invoices\n",
      "Customer 35 has 7 invoices\n",
      "Customer 36 has 7 invoices\n",
      "Customer 37 has 7 invoices\n",
      "Customer 38 has 7 invoices\n",
      "Customer 39 has 7 invoices\n",
      "Customer 40 has 7 invoices\n",
      "Customer 41 has 7 invoices\n",
      "Customer 42 has 7 invoices\n",
      "Customer 43 has 7 invoices\n",
      "Customer 44 has 7 invoices\n",
      "Customer 45 has 7 invoices\n",
      "Customer 46 has 7 invoices\n",
      "Customer 47 has 7 invoices\n",
      "Customer 48 has 7 invoices\n",
      "Customer 49 has 7 invoices\n",
      "Customer 50 has 7 invoices\n",
      "Customer 51 has 7 invoices\n",
      "Customer 52 has 7 invoices\n",
      "Customer 53 has 7 invoices\n",
      "Customer 54 has 7 invoices\n",
      "Customer 55 has 7 invoices\n",
      "Customer 56 has 7 invoices\n",
      "Customer 57 has 7 invoices\n",
      "Customer 58 has 7 invoices\n",
      "Customer 59 has 6 invoices\n"
     ]
    }
   ],
   "source": [
    "import pandas as pd\n",
    "import sqlite3\n",
    "connection = sqlite3.connect(\"D:\\Python_Homeworks\\Python_Homework\\lesson-17\\data\\chinook.db\")\n",
    "df_customers = pd.read_sql_query(\n",
    "    \"SELECT * FROM customers\",\n",
    "    con=connection\n",
    ")\n",
    "df_invoices = pd.read_sql_query(\n",
    "    \"SELECT * FROM invoices\",\n",
    "    con=connection\n",
    ")\n",
    "df_joined = pd.merge(df_customers, df_invoices, on=\"CustomerId\")\n",
    "\n",
    "customer_ids = df_joined[\"CustomerId\"].drop_duplicates().tolist()\n",
    "for customer_id in customer_ids:\n",
    "    df_CustomerId = df_joined[df_joined[\"CustomerId\"]==customer_id]\n",
    "    print(f\"Customer {customer_id} has {df_CustomerId.shape[0]} invoices\")\n"
   ]
  },
  {
   "cell_type": "markdown",
   "metadata": {},
   "source": [
    "##### movie.csv task"
   ]
  },
  {
   "cell_type": "code",
   "execution_count": 2,
   "metadata": {},
   "outputs": [
    {
     "name": "stdout",
     "output_type": "stream",
     "text": [
      "Rows for left joined df - 30300\n",
      "Rows for outer joined df - 30300\n"
     ]
    }
   ],
   "source": [
    "import csv\n",
    "df_movie_csv = pd.read_csv(\"../data/movie.csv\")\n",
    "df1 = df_movie_csv[[\"director_name\", \"color\"]]\n",
    "df2 = df_movie_csv[[\"director_name\", \"num_critic_for_reviews\"]]\n",
    "df_left_join = pd.merge(df1, df2, on=\"director_name\", how=\"left\")\n",
    "df_outer_join = pd.merge(df1, df2, on=\"director_name\", how=\"outer\")\n",
    "print(f\"Rows for left joined df - {df_left_join.shape[0]}\")\n",
    "print(f\"Rows for outer joined df - {df_outer_join.shape[0]}\")"
   ]
  }
 ],
 "metadata": {
  "kernelspec": {
   "display_name": "Python 3",
   "language": "python",
   "name": "python3"
  },
  "language_info": {
   "codemirror_mode": {
    "name": "ipython",
    "version": 3
   },
   "file_extension": ".py",
   "mimetype": "text/x-python",
   "name": "python",
   "nbconvert_exporter": "python",
   "pygments_lexer": "ipython3",
   "version": "3.10.10"
  }
 },
 "nbformat": 4,
 "nbformat_minor": 2
}

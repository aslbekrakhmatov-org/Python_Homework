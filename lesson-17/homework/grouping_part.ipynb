{
 "cells": [
  {
   "cell_type": "markdown",
   "metadata": {},
   "source": [
    "##### titanic.xlsx task"
   ]
  },
  {
   "cell_type": "code",
   "execution_count": 2,
   "metadata": {},
   "outputs": [
    {
     "data": {
      "text/html": [
       "<div>\n",
       "<style scoped>\n",
       "    .dataframe tbody tr th:only-of-type {\n",
       "        vertical-align: middle;\n",
       "    }\n",
       "\n",
       "    .dataframe tbody tr th {\n",
       "        vertical-align: top;\n",
       "    }\n",
       "\n",
       "    .dataframe thead th {\n",
       "        text-align: right;\n",
       "    }\n",
       "</style>\n",
       "<table border=\"1\" class=\"dataframe\">\n",
       "  <thead>\n",
       "    <tr style=\"text-align: right;\">\n",
       "      <th></th>\n",
       "      <th>Pclass</th>\n",
       "      <th>Age_mean</th>\n",
       "      <th>Fare_sum</th>\n",
       "      <th>Pclass_size</th>\n",
       "    </tr>\n",
       "  </thead>\n",
       "  <tbody>\n",
       "    <tr>\n",
       "      <th>0</th>\n",
       "      <td>1</td>\n",
       "      <td>38.233441</td>\n",
       "      <td>18177.4125</td>\n",
       "      <td>216</td>\n",
       "    </tr>\n",
       "    <tr>\n",
       "      <th>1</th>\n",
       "      <td>2</td>\n",
       "      <td>29.877630</td>\n",
       "      <td>3801.8417</td>\n",
       "      <td>184</td>\n",
       "    </tr>\n",
       "    <tr>\n",
       "      <th>2</th>\n",
       "      <td>3</td>\n",
       "      <td>25.140620</td>\n",
       "      <td>6714.6951</td>\n",
       "      <td>491</td>\n",
       "    </tr>\n",
       "  </tbody>\n",
       "</table>\n",
       "</div>"
      ],
      "text/plain": [
       "   Pclass   Age_mean    Fare_sum  Pclass_size\n",
       "0       1  38.233441  18177.4125          216\n",
       "1       2  29.877630   3801.8417          184\n",
       "2       3  25.140620   6714.6951          491"
      ]
     },
     "execution_count": 2,
     "metadata": {},
     "output_type": "execute_result"
    }
   ],
   "source": [
    "import pandas as pd\n",
    "df_titanic = pd.read_excel(\"../data/titanic.xlsx\", sheet_name=\"Sheet1\")\n",
    "df_titanic.fillna(df_titanic['Age'].mean())\n",
    "result_df = df_titanic.groupby(\"Pclass\").agg({\n",
    "    \"Age\":['mean'],\n",
    "    \"Fare\":[\"sum\"],\n",
    "    \"Pclass\":[\"size\"]\n",
    "})\n",
    "new_columns = [\"_\".join(col) for col in result_df.columns]\n",
    "result_df.columns = new_columns\n",
    "result_df= result_df.reset_index()\n",
    "result_df"
   ]
  },
  {
   "cell_type": "markdown",
   "metadata": {},
   "source": [
    "##### movie.csv task"
   ]
  },
  {
   "cell_type": "code",
   "execution_count": 4,
   "metadata": {},
   "outputs": [
    {
     "name": "stdout",
     "output_type": "stream",
     "text": [
      "             Color  Total critics  Average duration\n",
      "0  Black and White        25701.0        112.240196\n",
      "1            Color       645378.0        106.929258\n",
      "           Director Name  Total critics  Average duration\n",
      "0          A. Raven Cruz            3.0              97.0\n",
      "1             Aaron Hann           29.0              87.0\n",
      "2        Aaron Schneider          160.0             100.0\n",
      "3          Aaron Seltzer           99.0              85.0\n",
      "4           Abel Ferrara           48.0              99.0\n",
      "...                  ...            ...               ...\n",
      "2392       Zoran Lisinac           17.0             108.0\n",
      "2393  Álex de la Iglesia           71.0             104.0\n",
      "2394    Émile Gaudreault           67.0              92.0\n",
      "2395        Éric Tessier            9.0              99.0\n",
      "2396       Étienne Faure            9.0              98.0\n",
      "\n",
      "[2397 rows x 3 columns]\n"
     ]
    }
   ],
   "source": [
    "df_movie_csv = pd.read_csv(\"../data/movie.csv\")\n",
    "df_gcolor = df_movie_csv.groupby(\"color\").agg({\n",
    "    \"num_critic_for_reviews\":[\"sum\"],\n",
    "    \"duration\":['mean']\n",
    "})\n",
    "df_gdirector = df_movie_csv.groupby(\"director_name\").agg({\n",
    "    \"num_critic_for_reviews\":[\"sum\"],\n",
    "    \"duration\":['mean']\n",
    "})\n",
    "df_gcolor.columns=[ \"Total critics\", \"Average duration\"]\n",
    "df_gcolor = df_gcolor.reset_index()\n",
    "df_gcolor.columns=[\"Color\", \"Total critics\", \"Average duration\"]\n",
    "df_gdirector.columns=[ \"Total critics\", \"Average duration\"]\n",
    "df_gdirector = df_gdirector.reset_index()\n",
    "df_gdirector.columns=[\"Director Name\", \"Total critics\", \"Average duration\"]\n",
    "print(df_gcolor)\n",
    "print(df_gdirector)\n"
   ]
  },
  {
   "cell_type": "markdown",
   "metadata": {},
   "source": [
    "##### flights parquet task"
   ]
  },
  {
   "cell_type": "code",
   "execution_count": null,
   "metadata": {},
   "outputs": [],
   "source": [
    "df_flights = pd.read_parquet('../data/flights')\n",
    "\n",
    "df_flights[\"ArrDelay\"] = pd.to_numeric(df_flights[\"ArrDelay\"], errors=\"coerce\")\n",
    "df_flights[\"DepDelay\"] = pd.to_numeric(df_flights[\"DepDelay\"], errors=\"coerce\")\n",
    "\n",
    "df_gyear = df_flights.groupby(\"Year\").agg({\n",
    "    \"Year\":[\"size\"],\n",
    "    \"ArrDelay\":[\"mean\"],\n",
    "    \"DepDelay\":[\"max\"]\n",
    "})\n",
    "df_gmonth = df_flights.groupby(\"Month\").agg({\n",
    "    \"Month\":[\"size\"],\n",
    "    \"ArrDelay\":[\"mean\"],\n",
    "    \"DepDelay\":[\"max\"]\n",
    "})\n",
    "df_gyear=df_gyear.reset_index()\n",
    "df_gmonth=df_gmonth.reset_index()\n",
    "\n",
    "df_gmonth.columns=[\"Month\", \"Total flights\", \"Avg ArrDelay\", \"Max DepDelay\"]\n",
    "df_gyear.columns=[\"Year\", \"Total flights\", \"Avg ArrDelay\", \"Max DepDelay\"]\n",
    "\n",
    "print(df_gyear)\n",
    "print(df_gmonth)\n"
   ]
  }
 ],
 "metadata": {
  "kernelspec": {
   "display_name": "Python 3",
   "language": "python",
   "name": "python3"
  },
  "language_info": {
   "codemirror_mode": {
    "name": "ipython",
    "version": 3
   },
   "file_extension": ".py",
   "mimetype": "text/x-python",
   "name": "python",
   "nbconvert_exporter": "python",
   "pygments_lexer": "ipython3",
   "version": "3.10.10"
  }
 },
 "nbformat": 4,
 "nbformat_minor": 2
}
